{
 "cells": [
  {
   "cell_type": "code",
   "execution_count": 1,
   "id": "4f121c05",
   "metadata": {
    "slideshow": {
     "slide_type": "skip"
    }
   },
   "outputs": [],
   "source": [
    "from lib import create_teams, generate_random_numbers"
   ]
  },
  {
   "cell_type": "markdown",
   "id": "e8bc3748",
   "metadata": {
    "slideshow": {
     "slide_type": "slide"
    }
   },
   "source": [
    "# Teamwork"
   ]
  },
  {
   "cell_type": "markdown",
   "id": "2f3b8019",
   "metadata": {
    "slideshow": {
     "slide_type": "fragment"
    }
   },
   "source": [
    "### Brainstorming: why work in teams?"
   ]
  },
  {
   "cell_type": "markdown",
   "id": "fd5c9788",
   "metadata": {
    "slideshow": {
     "slide_type": "fragment"
    }
   },
   "source": [
    "Today's focus: big(ger) teams == quick(er) results?"
   ]
  },
  {
   "cell_type": "code",
   "execution_count": null,
   "id": "bb64816f",
   "metadata": {
    "slideshow": {
     "slide_type": "slide"
    }
   },
   "outputs": [],
   "source": [
    "create_teams(team_sizes=[4, 2, 1])"
   ]
  },
  {
   "cell_type": "code",
   "execution_count": null,
   "id": "9d63d9f6",
   "metadata": {
    "slideshow": {
     "slide_type": "slide"
    }
   },
   "outputs": [],
   "source": [
    "generate_random_numbers(n=20)"
   ]
  }
 ],
 "metadata": {
  "celltoolbar": "Slideshow",
  "kernelspec": {
   "display_name": "Python 3 (ipykernel)",
   "language": "python",
   "name": "python3"
  },
  "language_info": {
   "codemirror_mode": {
    "name": "ipython",
    "version": 3
   },
   "file_extension": ".py",
   "mimetype": "text/x-python",
   "name": "python",
   "nbconvert_exporter": "python",
   "pygments_lexer": "ipython3",
   "version": "3.8.12"
  }
 },
 "nbformat": 4,
 "nbformat_minor": 5
}
