{
 "cells": [
  {
   "cell_type": "code",
   "execution_count": null,
   "id": "4f121c05",
   "metadata": {},
   "outputs": [],
   "source": [
    "from lib import create_teams, generate_random_numbers"
   ]
  },
  {
   "cell_type": "code",
   "execution_count": null,
   "id": "bb64816f",
   "metadata": {},
   "outputs": [],
   "source": [
    "create_teams(team_sizes=[4, 2, 1])"
   ]
  },
  {
   "cell_type": "code",
   "execution_count": null,
   "id": "9d63d9f6",
   "metadata": {},
   "outputs": [],
   "source": [
    "generate_random_numbers(n=20)"
   ]
  }
 ],
 "metadata": {
  "kernelspec": {
   "display_name": "Python 3 (ipykernel)",
   "language": "python",
   "name": "python3"
  },
  "language_info": {
   "codemirror_mode": {
    "name": "ipython",
    "version": 3
   },
   "file_extension": ".py",
   "mimetype": "text/x-python",
   "name": "python",
   "nbconvert_exporter": "python",
   "pygments_lexer": "ipython3",
   "version": "3.8.12"
  }
 },
 "nbformat": 4,
 "nbformat_minor": 5
}
